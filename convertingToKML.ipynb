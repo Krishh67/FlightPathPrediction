{
 "cells": [
  {
   "cell_type": "code",
   "execution_count": 1,
   "id": "94b1186f",
   "metadata": {},
   "outputs": [],
   "source": [
    "import csv\n",
    "import os"
   ]
  },
  {
   "cell_type": "code",
   "execution_count": 2,
   "id": "7fe7e873",
   "metadata": {},
   "outputs": [],
   "source": [
    "np = r\"C:\\Users\\Sahil\\Desktop\\SML-Project\\Datasets\\AIC538\"\n",
    "os.chdir(np)"
   ]
  },
  {
   "cell_type": "code",
   "execution_count": 3,
   "id": "3b31be4a",
   "metadata": {},
   "outputs": [],
   "source": [
    "f1 = open(\"28-02-2023_updated.csv\",'r', encoding = 'utf-8')\n",
    "reader = csv.reader(f1)"
   ]
  },
  {
   "cell_type": "code",
   "execution_count": 4,
   "id": "9feca9ba",
   "metadata": {},
   "outputs": [
    {
     "data": {
      "text/plain": [
       "235"
      ]
     },
     "execution_count": 4,
     "metadata": {},
     "output_type": "execute_result"
    }
   ],
   "source": [
    "f2 = open(\"28-02-2023.kml\",\"w\")\n",
    "\n",
    "f2.write(\"\"\"<?xml version=\"1.0\" encoding=\"UTF-8\"?>\n",
    "\t<kml xmlns=\"http://www.opengis.net/kml/2.2\"\n",
    "  \txmlns:gx=\"http://www.google.com/kml/ext/2.2\">\n",
    "\t<name>Chennai to Delhi</name>    \n",
    "\t\t<gx:Tour>\n",
    "\t    <name>Chennai to Delhi</name>\n",
    "\t   \t\t<gx:Playlist>\\n\"\"\")"
   ]
  },
  {
   "cell_type": "code",
   "execution_count": 5,
   "id": "17510d2f",
   "metadata": {},
   "outputs": [],
   "source": [
    "x = 0\n",
    "for row in reader:\n",
    "\tif x == 0:\n",
    "\t\tx = 1\n",
    "\n",
    "\telse:\n",
    "\t\tf2.write(f\"\"\"\t\t\t\t  <gx:FlyTo>\n",
    "\t\t\t\t        <gx:duration>{float(row[9])/20.0}</gx:duration>\n",
    "\t\t\t\t        <gx:flyToMode>smooth</gx:flyToMode>\n",
    "\t\t\t    \t    <Camera>\n",
    "\t\t\t        \t  <longitude>{row[2]}</longitude>\n",
    "\t\t\t        \t  <latitude>{row[1]}</latitude>\n",
    "\t\t\t        \t  <altitude>{row[6]}</altitude>\n",
    "\t\t\t        \t  <heading>{row[3]}</heading>\n",
    "\t\t\t          \t  <tilt>{90.00 + float(row[12])}</tilt>\n",
    "\t\t\t\t\t\t  <roll>0</roll>\n",
    "\t\t\t        \t  <altitudeMode>absolute</altitudeMode>\n",
    "\t\t\t    \t    </Camera>\n",
    "\t\t\t    \t  </gx:FlyTo>\\n\"\"\")"
   ]
  },
  {
   "cell_type": "code",
   "execution_count": 6,
   "id": "f59b8f86",
   "metadata": {},
   "outputs": [],
   "source": [
    "f2.write(\"\"\"\t\t  </gx:Playlist>\n",
    "\t  \t</gx:Tour></kml>\"\"\")\n",
    "f1.close()\n",
    "f2.close()"
   ]
  }
 ],
 "metadata": {
  "kernelspec": {
   "display_name": "Python 3 (ipykernel)",
   "language": "python",
   "name": "python3"
  },
  "language_info": {
   "codemirror_mode": {
    "name": "ipython",
    "version": 3
   },
   "file_extension": ".py",
   "mimetype": "text/x-python",
   "name": "python",
   "nbconvert_exporter": "python",
   "pygments_lexer": "ipython3",
   "version": "3.9.7"
  }
 },
 "nbformat": 4,
 "nbformat_minor": 5
}
