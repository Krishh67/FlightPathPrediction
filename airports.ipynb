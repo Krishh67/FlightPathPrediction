{
 "cells": [
  {
   "cell_type": "code",
   "execution_count": 10,
   "metadata": {},
   "outputs": [],
   "source": [
    "from bs4 import BeautifulSoup\n",
    "import requests\n",
    "import pandas as pd\n",
    "import subprocess\n",
    "\n",
    "df = pd.read_csv(\"https://ourairports.com/countries/IN/airports.csv\")\n",
    "airports_df = pd.DataFrame(columns = df.columns)"
   ]
  },
  {
   "cell_type": "code",
   "execution_count": 11,
   "metadata": {},
   "outputs": [],
   "source": [
    "url = \"http://www.knowindia.net/aviation3.html\"\n",
    "url_extract = requests.get(url).text\n",
    "soup = BeautifulSoup(url_extract, 'lxml')\n",
    "table = soup.find('table', class_ = \"table table-striped table-hover table-responsive table-bordered\")"
   ]
  },
  {
   "cell_type": "code",
   "execution_count": 12,
   "metadata": {},
   "outputs": [],
   "source": [
    "tbody = table.find('tbody')"
   ]
  },
  {
   "cell_type": "code",
   "execution_count": 13,
   "metadata": {},
   "outputs": [],
   "source": [
    "trs = tbody.find_all('tr')\n",
    "for i in trs:\n",
    "    x = i.find_all('td')[1].text\n",
    "    airports_df = pd.concat([airports_df, df[df['iata_code'] == x].reset_index(drop=True)]).reset_index(drop = True)"
   ]
  },
  {
   "cell_type": "code",
   "execution_count": 14,
   "metadata": {},
   "outputs": [],
   "source": [
    "airports_df = airports_df.dropna(subset = ['municipality', 'gps_code']).reset_index(drop = True)"
   ]
  },
  {
   "cell_type": "code",
   "execution_count": 15,
   "metadata": {},
   "outputs": [],
   "source": [
    "dn = []\n",
    "for i in range(airports_df.shape[0]):\n",
    "    dn.append(airports_df['name'][i] + \", \" + airports_df['municipality'][i])\n",
    "airports_df['Display Name'] = dn"
   ]
  },
  {
   "cell_type": "code",
   "execution_count": 16,
   "metadata": {},
   "outputs": [],
   "source": [
    "airports_df.to_csv(\"in-airports.csv\", index = False)"
   ]
  }
 ],
 "metadata": {
  "kernelspec": {
   "display_name": "Python 3",
   "language": "python",
   "name": "python3"
  },
  "language_info": {
   "codemirror_mode": {
    "name": "ipython",
    "version": 3
   },
   "file_extension": ".py",
   "mimetype": "text/x-python",
   "name": "python",
   "nbconvert_exporter": "python",
   "pygments_lexer": "ipython3",
   "version": "3.10.7"
  },
  "orig_nbformat": 4
 },
 "nbformat": 4,
 "nbformat_minor": 2
}
